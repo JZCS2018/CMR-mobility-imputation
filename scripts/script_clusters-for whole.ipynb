{
 "cells": [
  {
   "cell_type": "code",
   "execution_count": null,
   "id": "14d47ba6",
   "metadata": {},
   "outputs": [],
   "source": [
    "from sklearn.cluster import KMeans\n",
    "import pandas as pd\n",
    "import numpy as np\n",
    "import matplotlib.pyplot as plt\n",
    "import seaborn as sns"
   ]
  },
  {
   "cell_type": "code",
   "execution_count": null,
   "id": "1855ee17",
   "metadata": {},
   "outputs": [],
   "source": [
    "mobility = pd.read_csv('../data/mobility.csv')"
   ]
  },
  {
   "cell_type": "code",
   "execution_count": null,
   "id": "b752c643",
   "metadata": {
    "scrolled": true
   },
   "outputs": [],
   "source": [
    "mobility['County FIPS'] = mobility['County FIPS'].astype('int64')"
   ]
  },
  {
   "cell_type": "code",
   "execution_count": null,
   "id": "d0a1c8eb",
   "metadata": {},
   "outputs": [],
   "source": [
    "##rwjf\n",
    "rwjf = pd.read_csv('../data/ACS_RWJF.csv').drop(columns=['Median house value'])\n",
    "house_income = pd.read_csv('../data/median_household_income.csv')\n",
    "forborn = pd.read_csv('../data/foreign_born.csv')\n",
    "rwjf = rwjf.merge(house_income,on='FIPS Code',how='inner')\n",
    "rwjf = rwjf.merge(forborn, on='FIPS Code',how ='inner')\n",
    "\n",
    "##ccvi\n",
    "ccvi = pd.read_excel('../data/ccvi.xlsx',engine='openpyxl')\n",
    "\n",
    "## series\n",
    "# series_county = pd.read_json('../dataset/completed_series_percent_090921.json', orient='records')\n",
    "series_county = pd.read_csv('../data/completed_series_percent_013122.csv').drop(columns = ['Unnamed: 0'])\n",
    "pvi = pd.read_csv('../data/PVI.csv')\n",
    "pvi = pvi.rename(columns={\"casrn\":\"FIPS Code\"}).drop(columns=['row','sid','name','Cases','Deaths'])\n",
    "series_county = series_county.merge(rwjf, on='FIPS Code', how = 'inner')\n",
    "series_county = series_county.merge(ccvi, on='FIPS Code', how = 'inner')\n",
    "series_county = series_county.merge(pvi, on='FIPS Code', how = 'inner')"
   ]
  },
  {
   "cell_type": "code",
   "execution_count": null,
   "id": "28720708",
   "metadata": {},
   "outputs": [],
   "source": [
    "static = series_county.drop_duplicates(subset=['FIPS Code'])"
   ]
  },
  {
   "cell_type": "code",
   "execution_count": null,
   "id": "7130b37d",
   "metadata": {},
   "outputs": [],
   "source": [
    "feature_static = [\n",
    "'Estimated percent of adults ever diagnosed with high blood press',\n",
    " 'Estimated number of adults ever diagnosed with high cholesterol ',\n",
    " 'Estimated percent of adults ever diagnosed with a stroke in 2018',\n",
    " 'Estimated percent of adults reporting to have asthma in 2018.',\n",
    " 'Estimated percent of adults ever diagnosed with chronic obstruct',\n",
    " 'Estimated percent of adults reporting to have ever smoked cigare',\n",
    " 'Annual cancer incidence per 100,000 persons, as measured in 2011',\n",
    " 'Rate of persons living with an HIV diagnosis per 100,000 people ',\n",
    " 'Estimated percent of adults reporting to be overweight (a body m',\n",
    " 'Estimated percent of adults ever diagnosed with diabetes in 2018',\n",
    " 'Number of deaths due to influenza and pneumonia per 100,000 people',\n",
    " 'Below Poverty',\n",
    " 'Unemployed',\n",
    " 'Income',\n",
    " 'No High School Diploma',\n",
    " 'Aged 65 or Older',\n",
    " 'Aged 17 or Younger',\n",
    " 'Older than Age 5 with a Disability',\n",
    " 'Single-Parent Households',\n",
    " 'Minority',\n",
    " 'Speaks English “Less than Well”',\n",
    " 'Multi-Unit Structures',\n",
    " 'Mobile Homes',\n",
    " 'Crowding',\n",
    " 'No Vehicle',\n",
    " 'Group Quarters',\n",
    " 'E_UNINSUR',\n",
    " 'Number of intensive care unit (ICU) beds in 2019.',\n",
    " 'Rate of hospital beds per 1,000 people in 2016.',\n",
    " 'Aggregate cost of medical care in 2017.',\n",
    " 'Rate of emergency room visits per 1,000 people in 2016.',\n",
    " 'Percentage of population employed in high-risk industry',\n",
    " 'Long-term care (nursing homes, assisted living, and care homes) residents per 100,000',\n",
    " 'Prisons population per 100000',\n",
    " 'Receipt of government financial assistance ',\n",
    " 'sex ratio',\n",
    "'Gini Index of Income Inequality',\n",
    "'Estimated percent of all people who were foreign born as of 2015',\n",
    "'Traffic','AirPollution'\n",
    "]"
   ]
  },
  {
   "cell_type": "code",
   "execution_count": null,
   "id": "abf7202e",
   "metadata": {},
   "outputs": [],
   "source": [
    "existed_mobility = mobility.merge(static, left_on = 'County FIPS', right_on ='FIPS Code' ).drop_duplicates(subset=['FIPS Code'])"
   ]
  },
  {
   "cell_type": "code",
   "execution_count": null,
   "id": "4b033784",
   "metadata": {},
   "outputs": [],
   "source": [
    "picked_counties = existed_mobility[feature_static].fillna(0)"
   ]
  },
  {
   "cell_type": "code",
   "execution_count": null,
   "id": "5b93fb5f",
   "metadata": {},
   "outputs": [],
   "source": [
    "kmeans = KMeans(n_clusters=180).fit(picked_counties)"
   ]
  },
  {
   "cell_type": "code",
   "execution_count": null,
   "id": "10d28a11",
   "metadata": {},
   "outputs": [],
   "source": [
    "results = kmeans.predict(picked_counties)"
   ]
  },
  {
   "cell_type": "code",
   "execution_count": null,
   "id": "62c0043e",
   "metadata": {},
   "outputs": [],
   "source": [
    "existed_mobility['clusters'] = results\n",
    "existed_mobility = existed_mobility.fillna(0)"
   ]
  },
  {
   "cell_type": "code",
   "execution_count": null,
   "id": "47f3350f",
   "metadata": {},
   "outputs": [],
   "source": [
    "med = existed_mobility.groupby(by=[\"clusters\"]).median()"
   ]
  },
  {
   "cell_type": "code",
   "execution_count": null,
   "id": "15fb7ee7",
   "metadata": {},
   "outputs": [],
   "source": [
    "clustered_common = existed_mobility[['clusters', 'County FIPS']].rename(columns={'County FIPS':'FIPS Code'})\n",
    "clustered_common"
   ]
  },
  {
   "cell_type": "code",
   "execution_count": null,
   "id": "05b7e03f",
   "metadata": {},
   "outputs": [],
   "source": [
    "# histogram of clusters\n",
    "ax = existed_mobility['clusters'].plot.hist(bins=180, alpha=0.5)"
   ]
  },
  {
   "cell_type": "code",
   "execution_count": null,
   "id": "5e734990",
   "metadata": {},
   "outputs": [],
   "source": [
    "df_all = static.merge(mobility, left_on = 'FIPS Code', right_on = 'County FIPS',how='left', indicator=True)"
   ]
  },
  {
   "cell_type": "code",
   "execution_count": null,
   "id": "8384745f",
   "metadata": {},
   "outputs": [],
   "source": [
    "no_mobility = df_all[df_all['_merge']=='left_only'][feature_static + ['FIPS Code']].fillna(0)"
   ]
  },
  {
   "cell_type": "code",
   "execution_count": null,
   "id": "1d60e4dd",
   "metadata": {},
   "outputs": [],
   "source": [
    "result = kmeans.predict(no_mobility[feature_static])"
   ]
  },
  {
   "cell_type": "code",
   "execution_count": null,
   "id": "989f313c",
   "metadata": {},
   "outputs": [],
   "source": [
    "no_mobility['clusters'] = result"
   ]
  },
  {
   "cell_type": "code",
   "execution_count": null,
   "id": "6c4d38e4",
   "metadata": {},
   "outputs": [],
   "source": [
    "no_mobility_index = no_mobility[['FIPS Code', 'clusters']].reset_index(drop=True)"
   ]
  },
  {
   "cell_type": "code",
   "execution_count": null,
   "id": "09421f8a",
   "metadata": {},
   "outputs": [],
   "source": [
    "no_mobility_index"
   ]
  },
  {
   "cell_type": "code",
   "execution_count": null,
   "id": "fde5518b",
   "metadata": {},
   "outputs": [],
   "source": [
    "whole_cluster = clustered_common.append(no_mobility_index)"
   ]
  },
  {
   "cell_type": "code",
   "execution_count": null,
   "id": "b6969e7f",
   "metadata": {},
   "outputs": [],
   "source": [
    "whole_cluster.to_csv('./whole_cluster.csv', index= False)"
   ]
  },
  {
   "cell_type": "code",
   "execution_count": null,
   "id": "d08bb11b",
   "metadata": {},
   "outputs": [],
   "source": [
    "ax = no_mobility['clusters'].plot.hist(bins=75, alpha=0.5)"
   ]
  },
  {
   "cell_type": "code",
   "execution_count": null,
   "id": "f1072532",
   "metadata": {},
   "outputs": [],
   "source": [
    "No_mobility_whole = series_county.merge(no_mobility_index, on = 'FIPS Code', how = 'inner')\n",
    "No_mobility_whole['date'] = pd.to_datetime(No_mobility_whole['date'])"
   ]
  },
  {
   "cell_type": "code",
   "execution_count": null,
   "id": "bc21b38b",
   "metadata": {},
   "outputs": [],
   "source": [
    "No_mobility_whole"
   ]
  },
  {
   "cell_type": "code",
   "execution_count": null,
   "id": "0469ab88",
   "metadata": {},
   "outputs": [],
   "source": [
    "#import dot_mobility\n",
    "dot_data = pd.read_csv('../data/data_dot.csv').drop(columns = ['Level','State FIPS',\n",
    "                                                              'STATEAB', 'County Name','Row ID','Week','Month'])\n",
    "dot_data['County FIPS'] = dot_data['County FIPS'].apply('int64')\n",
    "dot_data = dot_data.rename(columns={'Number of Trips <1':'Number of Trips 1', 'Number of Trips >=500':\n",
    "                                                     'Number of Trips 500', 'County FIPS': 'FIPS Code','Date': 'date'})\n",
    "dot_data['date'] = pd.to_datetime(dot_data['date'])"
   ]
  },
  {
   "cell_type": "code",
   "execution_count": null,
   "id": "01333a92",
   "metadata": {},
   "outputs": [],
   "source": [
    "series_county['date'] = pd.to_datetime(series_county['date'])\n",
    "mobility['date'] = pd.to_datetime(mobility['date'])\n",
    "mobility = mobility.drop(columns = ['state','county','timestamp','Level','Date','State FIPS','STATEAB','County Name'])\n",
    "mobility = mobility.rename(columns={'Number of Trips <1':'Number of Trips 1', 'Number of Trips >=500':\n",
    "                                                     'Number of Trips 500', 'County FIPS': 'FIPS Code'})"
   ]
  },
  {
   "cell_type": "code",
   "execution_count": null,
   "id": "60ec420e",
   "metadata": {},
   "outputs": [],
   "source": [
    "No_mobility_whole = No_mobility_whole.merge(dot_data, on =['FIPS Code', 'date']).reset_index(drop = True)"
   ]
  },
  {
   "cell_type": "code",
   "execution_count": null,
   "id": "bcd6d9a5",
   "metadata": {},
   "outputs": [],
   "source": [
    "With_mobility_whole = series_county.merge(mobility, on = ['FIPS Code','date'], how = 'inner')"
   ]
  },
  {
   "cell_type": "code",
   "execution_count": null,
   "id": "fad85d4d",
   "metadata": {},
   "outputs": [],
   "source": [
    "With_mobility_whole_new = With_mobility_whole.merge(clustered_common, on = 'FIPS Code')"
   ]
  },
  {
   "cell_type": "code",
   "execution_count": null,
   "id": "3a61307c",
   "metadata": {},
   "outputs": [],
   "source": [
    "imputation = With_mobility_whole_new[['date','clusters','retail_recreation',\n",
    " 'grocery_pharmacy',\n",
    " 'parks',\n",
    " 'transit_stations',\n",
    " 'workplaces',\n",
    " 'residential']]"
   ]
  },
  {
   "cell_type": "code",
   "execution_count": null,
   "id": "40e39496",
   "metadata": {},
   "outputs": [],
   "source": [
    "temp = imputation.fillna(0).groupby(['clusters','date']).median()"
   ]
  },
  {
   "cell_type": "code",
   "execution_count": null,
   "id": "a1baeb51",
   "metadata": {},
   "outputs": [],
   "source": [
    "temp['index'] = temp.index.values"
   ]
  },
  {
   "cell_type": "code",
   "execution_count": null,
   "id": "ab81d745",
   "metadata": {},
   "outputs": [],
   "source": [
    "temp['clusters'] = temp['index'].apply(lambda x: x[0])\n",
    "temp['date'] = temp['index'].apply(lambda x: x[1])\n",
    "temp['date'] = pd.to_datetime(temp['date'])"
   ]
  },
  {
   "cell_type": "code",
   "execution_count": null,
   "id": "84ce2c8e",
   "metadata": {},
   "outputs": [],
   "source": [
    "imputation = temp.reset_index(drop = True).drop(columns = ['index'])"
   ]
  },
  {
   "cell_type": "code",
   "execution_count": null,
   "id": "0476a003",
   "metadata": {},
   "outputs": [],
   "source": [
    "imputation"
   ]
  },
  {
   "cell_type": "code",
   "execution_count": null,
   "id": "5cd21257",
   "metadata": {},
   "outputs": [],
   "source": [
    "data_no_mobility = No_mobility_whole.merge(imputation, on = ['clusters', 'date'])\n",
    "var_change = ['Population Staying at Home',\n",
    " 'Population Not Staying at Home',\n",
    " 'Number of Trips',\n",
    " 'Number of Trips 1',\n",
    " 'Number of Trips 1-3',\n",
    " 'Number of Trips 3-5',\n",
    " 'Number of Trips 5-10',\n",
    " 'Number of Trips 10-25',\n",
    " 'Number of Trips 25-50',\n",
    " 'Number of Trips 50-100',\n",
    " 'Number of Trips 100-250',\n",
    " 'Number of Trips 250-500',\n",
    " 'Number of Trips 500']\n",
    "for i in var_change:\n",
    "    data_no_mobility[i] = data_no_mobility[i] / data_no_mobility['Population']"
   ]
  },
  {
   "cell_type": "code",
   "execution_count": null,
   "id": "1c200b14",
   "metadata": {},
   "outputs": [],
   "source": [
    "data_no_mobility.to_csv('../data/hold-out-set.csv', index = False)"
   ]
  },
  {
   "cell_type": "code",
   "execution_count": null,
   "id": "72f3e226",
   "metadata": {},
   "outputs": [],
   "source": []
  }
 ],
 "metadata": {
  "kernelspec": {
   "display_name": "Environment (conda_pytorch_latest_p37)",
   "language": "python",
   "name": "conda_pytorch_latest_p37"
  },
  "language_info": {
   "codemirror_mode": {
    "name": "ipython",
    "version": 3
   },
   "file_extension": ".py",
   "mimetype": "text/x-python",
   "name": "python",
   "nbconvert_exporter": "python",
   "pygments_lexer": "ipython3",
   "version": "3.7.10"
  }
 },
 "nbformat": 4,
 "nbformat_minor": 5
}
