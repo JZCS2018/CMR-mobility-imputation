{
 "cells": [
  {
   "cell_type": "code",
   "execution_count": null,
   "id": "83be6a7a",
   "metadata": {},
   "outputs": [],
   "source": [
    "import pandas as pd\n",
    "import sklearn as sk\n",
    "from sklearn.model_selection import train_test_split\n",
    "import copy\n",
    "import numpy as np\n",
    "import json\n",
    "import sklearn as sk\n",
    "import sys\n",
    "import matplotlib.pyplot as plt\n",
    "from sklearn.model_selection import train_test_split\n",
    "from sklearn.ensemble import RandomForestClassifier,GradientBoostingClassifier,AdaBoostClassifier,StackingClassifier\n",
    "from sklearn.model_selection import GridSearchCV\n",
    "import xgboost\n",
    "from sklearn.inspection import permutation_importance\n",
    "from sklearn.linear_model import ElasticNet\n",
    "from sklearn.preprocessing import MinMaxScaler\n",
    "from sklearn.metrics import accuracy_score, f1_score\n",
    "import seaborn as sns\n",
    "import shap\n",
    "import warnings\n",
    "warnings.filterwarnings('ignore')"
   ]
  },
  {
   "cell_type": "code",
   "execution_count": null,
   "id": "733206e7",
   "metadata": {},
   "outputs": [],
   "source": [
    "import pandas as pd\n",
    "import sklearn as sk\n",
    "from sklearn.model_selection import train_test_split\n",
    "import copy"
   ]
  },
  {
   "cell_type": "code",
   "execution_count": null,
   "id": "b4dd2d02",
   "metadata": {},
   "outputs": [],
   "source": [
    "pd.options.mode.chained_assignment = None\n",
    "month = ['apr_20', 'may_20', 'june_20', 'july_20', 'aug_20','sep_20','octo_20', 'nov_20', 'dec_20', \n",
    "         'jan_21', 'feb_21', 'mar_21','apr_21','may_21', 'june_21','july_21','aug_21', 'sep_21', \n",
    "         'octo_21', 'nov_21', 'dec_21']\n",
    "train_set = ['train_'+x for x in month]\n",
    "test_set = ['test_'+x for x in month]\n",
    "for i in range(len(month)):\n",
    "    vars()[train_set[i]] = pd.read_csv('../data/new/'+train_set[i]+'.csv', sep=\"\\t\")\n",
    "    vars()[test_set[i]]= pd.read_csv('../data/new/'+test_set[i]+'.csv', sep=\"\\t\") "
   ]
  },
  {
   "cell_type": "code",
   "execution_count": null,
   "id": "f821e547",
   "metadata": {},
   "outputs": [],
   "source": [
    "vars()[test_set[1]]['FIPS Code'].to_csv('county_list.csv', sep ='\\t', index=False)"
   ]
  },
  {
   "cell_type": "code",
   "execution_count": null,
   "id": "950212fd",
   "metadata": {},
   "outputs": [],
   "source": [
    "feature_ours = [\n",
    "'Estimated percent of adults ever diagnosed with high blood press',\n",
    " 'Estimated number of adults ever diagnosed with high cholesterol ',\n",
    " 'Estimated percent of adults ever diagnosed with a stroke in 2018',\n",
    " 'Estimated percent of adults reporting to have asthma in 2018.',\n",
    " 'Estimated percent of adults ever diagnosed with chronic obstruct',\n",
    " 'Estimated percent of adults reporting to have ever smoked cigare',\n",
    " 'Annual cancer incidence per 100,000 persons, as measured in 2011',\n",
    " 'Rate of persons living with an HIV diagnosis per 100,000 people ',\n",
    " 'Estimated percent of adults reporting to be overweight (a body m',\n",
    " 'Estimated percent of adults ever diagnosed with diabetes in 2018',\n",
    " 'Number of deaths due to influenza and pneumonia per 100,000 people',\n",
    " 'Below Poverty',\n",
    " 'Unemployed',\n",
    " 'Income',\n",
    " 'No High School Diploma',\n",
    " 'Aged 65 or Older',\n",
    " 'Aged 17 or Younger',\n",
    " 'Older than Age 5 with a Disability',\n",
    " 'Single-Parent Households',\n",
    " 'Minority',\n",
    " 'Speaks English “Less than Well”',\n",
    " 'Multi-Unit Structures',\n",
    " 'Mobile Homes',\n",
    " 'Crowding',\n",
    " 'No Vehicle',\n",
    " 'Group Quarters',\n",
    " 'E_UNINSUR',\n",
    " 'Number of intensive care unit (ICU) beds in 2019.',\n",
    " 'Rate of hospital beds per 1,000 people in 2016.',\n",
    " 'Aggregate cost of medical care in 2017.',\n",
    " 'Rate of emergency room visits per 1,000 people in 2016.',\n",
    " 'Percentage of population employed in high-risk industry',\n",
    " 'Long-term care (nursing homes, assisted living, and care homes) residents per 100,000',\n",
    " 'Prisons population per 100000',\n",
    " 'Receipt of government financial assistance ',\n",
    " 'sex ratio',\n",
    "'Gini Index of Income Inequality',\n",
    "'Estimated percent of all people who were foreign born as of 2015',\n",
    "'Traffic','AirPollution'\n",
    "]"
   ]
  },
  {
   "cell_type": "code",
   "execution_count": null,
   "id": "11bfac8b",
   "metadata": {},
   "outputs": [],
   "source": [
    "feature_mobility = [\n",
    "'Population Staying at Home',\n",
    " 'Population Not Staying at Home',\n",
    " 'Number of Trips',\n",
    " 'Number of Trips 1',\n",
    " 'Number of Trips 1-3',\n",
    " 'Number of Trips 3-5',\n",
    " 'Number of Trips 5-10',\n",
    " 'Number of Trips 10-25',\n",
    " 'Number of Trips 25-50',\n",
    " 'Number of Trips 50-100',\n",
    " 'Number of Trips 100-250',\n",
    " 'Number of Trips 250-500',\n",
    " 'Number of Trips 500'\n",
    "]"
   ]
  },
  {
   "cell_type": "code",
   "execution_count": null,
   "id": "362fa07a",
   "metadata": {},
   "outputs": [],
   "source": [
    "feature_google = ['retail_recreation',\n",
    " 'grocery_pharmacy',\n",
    " 'parks',\n",
    " 'transit_stations',\n",
    " 'workplaces',\n",
    " 'residential']"
   ]
  },
  {
   "cell_type": "code",
   "execution_count": null,
   "id": "1f6fec6f",
   "metadata": {},
   "outputs": [],
   "source": [
    "feature_all = [\n",
    "'Estimated percent of adults ever diagnosed with high blood press',\n",
    " 'Estimated number of adults ever diagnosed with high cholesterol ',\n",
    " 'Estimated percent of adults ever diagnosed with a stroke in 2018',\n",
    " 'Estimated percent of adults reporting to have asthma in 2018.',\n",
    " 'Estimated percent of adults ever diagnosed with chronic obstruct',\n",
    " 'Estimated percent of adults reporting to have ever smoked cigare',\n",
    " 'Annual cancer incidence per 100,000 persons, as measured in 2011',\n",
    " 'Rate of persons living with an HIV diagnosis per 100,000 people ',\n",
    " 'Estimated percent of adults reporting to be overweight (a body m',\n",
    " 'Estimated percent of adults ever diagnosed with diabetes in 2018',\n",
    " 'Number of deaths due to influenza and pneumonia per 100,000 people',\n",
    " 'Below Poverty',\n",
    " 'Unemployed',\n",
    " 'Income',\n",
    " 'No High School Diploma',\n",
    " 'Aged 65 or Older',\n",
    " 'Aged 17 or Younger',\n",
    " 'Older than Age 5 with a Disability',\n",
    " 'Single-Parent Households',\n",
    " 'Minority',\n",
    " 'Speaks English “Less than Well”',\n",
    " 'Multi-Unit Structures',\n",
    " 'Mobile Homes',\n",
    " 'Crowding',\n",
    " 'No Vehicle',\n",
    " 'Group Quarters',\n",
    " 'E_UNINSUR',\n",
    " 'Number of intensive care unit (ICU) beds in 2019.',\n",
    " 'Rate of hospital beds per 1,000 people in 2016.',\n",
    " 'Aggregate cost of medical care in 2017.',\n",
    " 'Rate of emergency room visits per 1,000 people in 2016.',\n",
    " 'Percentage of population employed in high-risk industry',\n",
    " 'Long-term care (nursing homes, assisted living, and care homes) residents per 100,000',\n",
    " 'Prisons population per 100000',\n",
    " 'Receipt of government financial assistance ',\n",
    " 'sex ratio',\n",
    "'Gini Index of Income Inequality',\n",
    "'Estimated percent of all people who were foreign born as of 2015',\n",
    "'Traffic','AirPollution',\n",
    "'Population Staying at Home',\n",
    " 'Population Not Staying at Home',\n",
    " 'Number of Trips',\n",
    " 'Number of Trips 1',\n",
    " 'Number of Trips 1-3',\n",
    " 'Number of Trips 3-5',\n",
    " 'Number of Trips 5-10',\n",
    " 'Number of Trips 10-25',\n",
    " 'Number of Trips 25-50',\n",
    " 'Number of Trips 50-100',\n",
    " 'Number of Trips 100-250',\n",
    " 'Number of Trips 250-500',\n",
    " 'Number of Trips 500'\n",
    "]\n",
    "cat_feature=['X_013_Urbanization_Code']\n",
    "# label =['label']"
   ]
  },
  {
   "cell_type": "code",
   "execution_count": null,
   "id": "de8d9426",
   "metadata": {},
   "outputs": [],
   "source": []
  },
  {
   "cell_type": "code",
   "execution_count": null,
   "id": "cd48dc9f",
   "metadata": {},
   "outputs": [],
   "source": []
  },
  {
   "cell_type": "code",
   "execution_count": null,
   "id": "9d75f7ba",
   "metadata": {},
   "outputs": [],
   "source": [
    "def data_split(X_train,X_test, feature): \n",
    "    scaler= minmax = MinMaxScaler(feature_range=(0,1))\n",
    "\n",
    "    for column in feature:\n",
    "        X_train[column] = scaler.fit_transform(X_train[column].values.reshape(-1,1))\n",
    "        X_test[column] = scaler.transform(X_test[column].values.reshape(-1,1))\n",
    "    \n",
    "    return X_train, X_test"
   ]
  },
  {
   "cell_type": "code",
   "execution_count": null,
   "id": "11377ef2",
   "metadata": {},
   "outputs": [],
   "source": []
  },
  {
   "cell_type": "code",
   "execution_count": null,
   "id": "59558639",
   "metadata": {},
   "outputs": [],
   "source": [
    "def wrapping_feature(train_case4,test_case4, label, feature, cat_feature, variable):\n",
    "    xgb = xgboost.XGBClassifier(random_state=42,verbosity = 0,use_label_encoder=False,tree_method='gpu_hist', gpu_id=0)\n",
    "    params = {'max_depth':[3],\n",
    " 'min_child_weight':[1],\n",
    "             'learning_rate':[0.05]}\n",
    "    gs = GridSearchCV(xgb, params,scoring='f1_micro')\n",
    "    gs.fit(train_case4[feature+cat_feature], train_case4[label])\n",
    "    xgb = gs.best_estimator_\n",
    "    print(xgb)\n",
    "    xgb_score = gs.best_score_\n",
    "    xgb_importance = xgb.feature_importances_\n",
    "    minmax = MinMaxScaler(feature_range=(0,1))\n",
    "    xgb_importance_s = pd.Series(minmax.fit_transform(xgb_importance.reshape((-1,1))).flat)\n",
    "#     pd.Series(data=xgb_importance_s.tolist(), index=train_case4[feature+cat_feature].columns).sort_values(ascending=False).head(30).plot.bar();\n",
    "    print('acc: '+str(xgb_score))\n",
    "    print('fininshed xgb')\n",
    "    return pd.Series(data=xgb_importance_s.tolist(), index=train_case4[feature+cat_feature].columns),xgb_score, xgb\n",
    "    "
   ]
  },
  {
   "cell_type": "code",
   "execution_count": null,
   "id": "398c8ccd",
   "metadata": {},
   "outputs": [],
   "source": [
    "import seaborn as sns; sns.set_theme(color_codes=True)\n",
    "from sklearn.ensemble import RandomForestRegressor,GradientBoostingRegressor,AdaBoostRegressor,StackingRegressor"
   ]
  },
  {
   "cell_type": "code",
   "execution_count": null,
   "id": "8820e096",
   "metadata": {
    "scrolled": true
   },
   "outputs": [],
   "source": [
    "rec_case_com = []\n",
    "for i in range(len(month)):\n",
    "    print('Result for ' + month[i])\n",
    "    train, test = data_split(vars()[train_set[i]],vars()[test_set[i]], feature_all+feature_google)\n",
    "    temp,scc, xgb_best = wrapping_feature(train, test, 'label_case', feature_all+feature_google, cat_feature, i)\n",
    "    rec_case_com.append(temp)"
   ]
  },
  {
   "cell_type": "code",
   "execution_count": null,
   "id": "6c90816e",
   "metadata": {},
   "outputs": [],
   "source": [
    "month_new = ['apr_20', 'may_20', 'june_20', 'july_20', 'aug_20','sep_20','octo_20', 'nov_20', 'dec_20', \n",
    "         'apr_21','may_21', 'june_21','july_21','aug_21', 'sep_21', \n",
    "         'octo_21', 'nov_21']\n",
    "case_feature = pd.DataFrame(month_new,columns=['Date'])\n",
    "for i in feature_all+feature_google+cat_feature:\n",
    "    temp=[]\n",
    "    for j in range(len(month)):\n",
    "        if j not in [9,10,11, 20]:\n",
    "            temp.append(rec_case_com[j][i])\n",
    "    case_feature[i]=temp"
   ]
  },
  {
   "cell_type": "code",
   "execution_count": null,
   "id": "9d5ca07e",
   "metadata": {},
   "outputs": [],
   "source": [
    "fig, ax = plt.subplots(figsize=(20,20), dpi = 300)\n",
    "sns.set(font_scale=2)\n",
    "sns.heatmap(case_feature.drop(columns='Date').transpose(), yticklabels=feature_all+feature_google+cat_feature,cmap='rocket_r',linewidths=.5, xticklabels=month_new,ax=ax)"
   ]
  }
 ],
 "metadata": {
  "kernelspec": {
   "display_name": "Environment (conda_python3)",
   "language": "python",
   "name": "conda_python3"
  },
  "language_info": {
   "codemirror_mode": {
    "name": "ipython",
    "version": 3
   },
   "file_extension": ".py",
   "mimetype": "text/x-python",
   "name": "python",
   "nbconvert_exporter": "python",
   "pygments_lexer": "ipython3",
   "version": "3.6.13"
  }
 },
 "nbformat": 4,
 "nbformat_minor": 5
}
